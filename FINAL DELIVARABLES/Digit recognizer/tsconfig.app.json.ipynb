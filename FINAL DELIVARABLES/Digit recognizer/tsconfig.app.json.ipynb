{
  "nbformat": 4,
  "nbformat_minor": 0,
  "metadata": {
    "colab": {
      "provenance": []
    },
    "kernelspec": {
      "name": "python3",
      "display_name": "Python 3"
    },
    "language_info": {
      "name": "python"
    }
  },
  "cells": [
    {
      "cell_type": "code",
      "execution_count": 1,
      "metadata": {
        "colab": {
          "base_uri": "https://localhost:8080/",
          "height": 130
        },
        "id": "Oya-hQ-vBLHF",
        "outputId": "5b0ceb21-00d7-4436-8393-214924f63f8f"
      },
      "outputs": [
        {
          "output_type": "error",
          "ename": "SyntaxError",
          "evalue": "ignored",
          "traceback": [
            "\u001b[0;36m  File \u001b[0;32m\"<ipython-input-1-db097a24075f>\"\u001b[0;36m, line \u001b[0;32m1\u001b[0m\n\u001b[0;31m    *(To, learn, more, about, this, file, see:, https://angular.io/config/tsconfig., */)\u001b[0m\n\u001b[0m                                             ^\u001b[0m\n\u001b[0;31mSyntaxError\u001b[0m\u001b[0;31m:\u001b[0m invalid syntax\n"
          ]
        }
      ],
      "source": [
        "/* To learn more about this file see: https://angular.io/config/tsconfig. */\n",
        "{\n",
        "  \"extends\": \"./tsconfig.json\",\n",
        "  \"compilerOptions\": {\n",
        "    \"outDir\": \"./out-tsc/app\",\n",
        "    \"types\": []\n",
        "  },\n",
        "  \"files\": [\n",
        "    \"src/main.ts\",\n",
        "    \"src/polyfills.ts\"\n",
        "  ],\n",
        "  \"include\": [\n",
        "    \"src/**/*.d.ts\"\n",
        "  ]\n",
        "}"
      ]
    }
  ]
}