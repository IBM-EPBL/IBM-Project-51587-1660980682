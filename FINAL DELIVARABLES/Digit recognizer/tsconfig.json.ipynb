{
  "nbformat": 4,
  "nbformat_minor": 0,
  "metadata": {
    "colab": {
      "provenance": []
    },
    "kernelspec": {
      "name": "python3",
      "display_name": "Python 3"
    },
    "language_info": {
      "name": "python"
    }
  },
  "cells": [
    {
      "cell_type": "code",
      "execution_count": 1,
      "metadata": {
        "colab": {
          "base_uri": "https://localhost:8080/",
          "height": 130
        },
        "id": "AC0-T_7-Bxyn",
        "outputId": "d847dda9-6099-42cd-8ada-e12911976ad9"
      },
      "outputs": [
        {
          "output_type": "error",
          "ename": "SyntaxError",
          "evalue": "ignored",
          "traceback": [
            "\u001b[0;36m  File \u001b[0;32m\"<ipython-input-1-002b5aed6e61>\"\u001b[0;36m, line \u001b[0;32m1\u001b[0m\n\u001b[0;31m    *(To, learn, more, about, this, file, see:, https://angular.io/config/tsconfig., */)\u001b[0m\n\u001b[0m                                             ^\u001b[0m\n\u001b[0;31mSyntaxError\u001b[0m\u001b[0;31m:\u001b[0m invalid syntax\n"
          ]
        }
      ],
      "source": [
        "/* To learn more about this file see: https://angular.io/config/tsconfig. */\n",
        "{\n",
        "  \"compileOnSave\": false,\n",
        "  \"compilerOptions\": {\n",
        "    \"baseUrl\": \"./\",\n",
        "    \"outDir\": \"./dist/out-tsc\",\n",
        "    \"forceConsistentCasingInFileNames\": true,\n",
        "    \"strict\": true,\n",
        "    \"noImplicitOverride\": true,\n",
        "    \"noPropertyAccessFromIndexSignature\": true,\n",
        "    \"noImplicitReturns\": true,\n",
        "    \"noFallthroughCasesInSwitch\": true,\n",
        "    \"sourceMap\": true,\n",
        "    \"declaration\": false,\n",
        "    \"downlevelIteration\": true,\n",
        "    \"experimentalDecorators\": true,\n",
        "    \"moduleResolution\": \"node\",\n",
        "    \"importHelpers\": true,\n",
        "    \"target\": \"es2020\",\n",
        "    \"module\": \"es2020\",\n",
        "    \"lib\": [\n",
        "      \"es2020\",\n",
        "      \"dom\"\n",
        "    ]\n",
        "  },\n",
        "  \"angularCompilerOptions\": {\n",
        "    \"enableI18nLegacyMessageIdFormat\": false,\n",
        "    \"strictInjectionParameters\": true,\n",
        "    \"strictInputAccessModifiers\": true,\n",
        "    \"strictTemplates\": true\n",
        "  }\n",
        "}"
      ]
    }
  ]
}