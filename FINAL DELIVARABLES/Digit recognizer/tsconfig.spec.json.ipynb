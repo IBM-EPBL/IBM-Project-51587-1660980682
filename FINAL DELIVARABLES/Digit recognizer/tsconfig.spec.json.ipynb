{
  "nbformat": 4,
  "nbformat_minor": 0,
  "metadata": {
    "colab": {
      "provenance": []
    },
    "kernelspec": {
      "name": "python3",
      "display_name": "Python 3"
    },
    "language_info": {
      "name": "python"
    }
  },
  "cells": [
    {
      "cell_type": "code",
      "execution_count": null,
      "metadata": {
        "id": "1lYGG6qhCtz9"
      },
      "outputs": [],
      "source": [
        "/* To learn more about this file see: https://angular.io/config/tsconfig. */\n",
        "{\n",
        "  \"extends\": \"./tsconfig.json\",\n",
        "  \"compilerOptions\": {\n",
        "    \"outDir\": \"./out-tsc/spec\",\n",
        "    \"types\": [\n",
        "      \"jasmine\"\n",
        "    ]\n",
        "  },\n",
        "  \"files\": [\n",
        "    \"src/test.ts\",\n",
        "    \"src/polyfills.ts\"\n",
        "  ],\n",
        "  \"include\": [\n",
        "    \"src/**/*.spec.ts\",\n",
        "    \"src/**/*.d.ts\"\n",
        "  ]\n",
        "}"
      ]
    }
  ]
}