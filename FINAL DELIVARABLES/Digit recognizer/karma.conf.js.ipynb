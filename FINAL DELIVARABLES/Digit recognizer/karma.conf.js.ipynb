{
  "nbformat": 4,
  "nbformat_minor": 0,
  "metadata": {
    "colab": {
      "provenance": []
    },
    "kernelspec": {
      "name": "python3",
      "display_name": "Python 3"
    },
    "language_info": {
      "name": "python"
    }
  },
  "cells": [
    {
      "cell_type": "code",
      "execution_count": 1,
      "metadata": {
        "colab": {
          "base_uri": "https://localhost:8080/",
          "height": 130
        },
        "id": "NPzDk5SG_MUq",
        "outputId": "33cdf778-74e4-4355-a34a-8363b5e78c85"
      },
      "outputs": [
        {
          "output_type": "error",
          "ename": "SyntaxError",
          "evalue": "ignored",
          "traceback": [
            "\u001b[0;36m  File \u001b[0;32m\"<ipython-input-1-1fdd97b590c5>\"\u001b[0;36m, line \u001b[0;32m1\u001b[0m\n\u001b[0;31m    // Karma configuration file, see link for more information\u001b[0m\n\u001b[0m     ^\u001b[0m\n\u001b[0;31mSyntaxError\u001b[0m\u001b[0;31m:\u001b[0m invalid syntax\n"
          ]
        }
      ],
      "source": [
        "// Karma configuration file, see link for more information\n",
        "// https://karma-runner.github.io/1.0/config/configuration-file.html\n",
        "\n",
        "module.exports = function (config) {\n",
        "  config.set({\n",
        "    basePath: '',\n",
        "    frameworks: ['jasmine', '@angular-devkit/build-angular'],\n",
        "    plugins: [\n",
        "      require('karma-jasmine'),\n",
        "      require('karma-chrome-launcher'),\n",
        "      require('karma-jasmine-html-reporter'),\n",
        "      require('karma-coverage'),\n",
        "      require('@angular-devkit/build-angular/plugins/karma')\n",
        "    ],\n",
        "    client: {\n",
        "      jasmine: {\n",
        "        // you can add configuration options for Jasmine here\n",
        "        // the possible options are listed at https://jasmine.github.io/api/edge/Configuration.html\n",
        "        // for example, you can disable the random execution with `random: false`\n",
        "        // or set a specific seed with `seed: 4321`\n",
        "      },\n",
        "      clearContext: false // leave Jasmine Spec Runner output visible in browser\n",
        "    },\n",
        "    jasmineHtmlReporter: {\n",
        "      suppressAll: true // removes the duplicated traces\n",
        "    },\n",
        "    coverageReporter: {\n",
        "      dir: require('path').join(__dirname, './coverage/digit-recognizer'),\n",
        "      subdir: '.',\n",
        "      reporters: [\n",
        "        { type: 'html' },\n",
        "        { type: 'text-summary' }\n",
        "      ]\n",
        "    },\n",
        "    reporters: ['progress', 'kjhtml'],\n",
        "    port: 9876,\n",
        "    colors: true,\n",
        "    logLevel: config.LOG_INFO,\n",
        "    autoWatch: true,\n",
        "    browsers: ['Chrome'],\n",
        "    singleRun: false,\n",
        "    restartOnFileChange: true\n",
        "  });\n",
        "};"
      ]
    }
  ]
}