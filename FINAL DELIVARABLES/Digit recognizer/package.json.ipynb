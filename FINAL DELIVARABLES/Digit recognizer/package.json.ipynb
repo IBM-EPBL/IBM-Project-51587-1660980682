{
  "nbformat": 4,
  "nbformat_minor": 0,
  "metadata": {
    "colab": {
      "provenance": []
    },
    "kernelspec": {
      "name": "python3",
      "display_name": "Python 3"
    },
    "language_info": {
      "name": "python"
    }
  },
  "cells": [
    {
      "cell_type": "code",
      "execution_count": 1,
      "metadata": {
        "id": "VTIaXEeIAuQu",
        "outputId": "4d9f1088-4101-4265-e7a5-b630f9924480",
        "colab": {
          "base_uri": "https://localhost:8080/",
          "height": 235
        }
      },
      "outputs": [
        {
          "output_type": "error",
          "ename": "NameError",
          "evalue": "ignored",
          "traceback": [
            "\u001b[0;31m---------------------------------------------------------------------------\u001b[0m",
            "\u001b[0;31mNameError\u001b[0m                                 Traceback (most recent call last)",
            "\u001b[0;32m<ipython-input-1-9053aca3c2fc>\u001b[0m in \u001b[0;36m<module>\u001b[0;34m\u001b[0m\n\u001b[1;32m      9\u001b[0m     \u001b[0;34m\"test\"\u001b[0m\u001b[0;34m:\u001b[0m \u001b[0;34m\"ng test\"\u001b[0m\u001b[0;34m\u001b[0m\u001b[0;34m\u001b[0m\u001b[0m\n\u001b[1;32m     10\u001b[0m   },\n\u001b[0;32m---> 11\u001b[0;31m   \u001b[0;34m\"private\"\u001b[0m\u001b[0;34m:\u001b[0m \u001b[0mtrue\u001b[0m\u001b[0;34m,\u001b[0m\u001b[0;34m\u001b[0m\u001b[0;34m\u001b[0m\u001b[0m\n\u001b[0m\u001b[1;32m     12\u001b[0m   \"dependencies\": {\n\u001b[1;32m     13\u001b[0m     \u001b[0;34m\"@angular/animations\"\u001b[0m\u001b[0;34m:\u001b[0m \u001b[0;34m\"^14.2.0\"\u001b[0m\u001b[0;34m,\u001b[0m\u001b[0;34m\u001b[0m\u001b[0;34m\u001b[0m\u001b[0m\n",
            "\u001b[0;31mNameError\u001b[0m: name 'true' is not defined"
          ]
        }
      ],
      "source": [
        "{\n",
        "  \"name\": \"digit-recognizer\",\n",
        "  \"version\": \"0.0.0\",\n",
        "  \"scripts\": {\n",
        "    \"ng\": \"ng\",\n",
        "    \"start\": \"ng serve\",\n",
        "    \"build\": \"ng build\",\n",
        "    \"watch\": \"ng build --watch --configuration development\",\n",
        "    \"test\": \"ng test\"\n",
        "  },\n",
        "  \"private\": true,\n",
        "  \"dependencies\": {\n",
        "    \"@angular/animations\": \"^14.2.0\",\n",
        "    \"@angular/cdk\": \"^14.2.6\",\n",
        "    \"@angular/common\": \"^14.2.0\",\n",
        "    \"@angular/compiler\": \"^14.2.0\",\n",
        "    \"@angular/core\": \"^14.2.0\",\n",
        "    \"@angular/forms\": \"^14.2.0\",\n",
        "    \"@angular/material\": \"^14.2.6\",\n",
        "    \"@angular/platform-browser\": \"^14.2.0\",\n",
        "    \"@angular/platform-browser-dynamic\": \"^14.2.0\",\n",
        "    \"@angular/router\": \"^14.2.0\",\n",
        "    \"@types/file-saver\": \"^2.0.5\",\n",
        "    \"file-saver\": \"^2.0.5\",\n",
        "    \"rxjs\": \"~7.5.0\",\n",
        "    \"tslib\": \"^2.3.0\",\n",
        "    \"zone.js\": \"~0.11.4\"\n",
        "  },\n",
        "  \"devDependencies\": {\n",
        "    \"@angular-devkit/build-angular\": \"^14.2.4\",\n",
        "    \"@angular/cli\": \"~14.2.4\",\n",
        "    \"@angular/compiler-cli\": \"^14.2.0\",\n",
        "    \"@types/jasmine\": \"~4.0.0\",\n",
        "    \"angular-cli-ghpages\": \"^1.0.3\",\n",
        "    \"jasmine-core\": \"~4.3.0\",\n",
        "    \"karma\": \"~6.4.0\",\n",
        "    \"karma-chrome-launcher\": \"~3.1.0\",\n",
        "    \"karma-coverage\": \"~2.2.0\",\n",
        "    \"karma-jasmine\": \"~5.1.0\",\n",
        "    \"karma-jasmine-html-reporter\": \"~2.0.0\",\n",
        "    \"typescript\": \"~4.7.2\"\n",
        "  }\n",
        "}"
      ]
    }
  ]
}