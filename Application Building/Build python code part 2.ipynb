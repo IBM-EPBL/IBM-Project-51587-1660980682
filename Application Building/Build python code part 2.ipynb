{
  "nbformat": 4,
  "nbformat_minor": 0,
  "metadata": {
    "colab": {
      "provenance": []
    },
    "kernelspec": {
      "name": "python3",
      "display_name": "Python 3"
    },
    "language_info": {
      "name": "python"
    }
  },
  "cells": [
    {
      "cell_type": "code",
      "execution_count": 1,
      "metadata": {
        "id": "czVdC9gTpFRq"
      },
      "outputs": [],
      "source": [
        "import os\n",
        "import random\n",
        "import string\n",
        "from pathlib import Path\n",
        "import numpy as np\n",
        "from tensorflow.keras.models import load_model\n",
        "from PIL import Image, ImageOps\n",
        "\n",
        "\n",
        "def random_name_generator(n):\n",
        "\treturn ''.join(random.choices(string.ascii_uppercase + string.digits, k=n))\n",
        "\n",
        "\n",
        "def recognize(image):\n",
        "\tmodel=load_model(Path(\"./model/model.h5\"))\n",
        " \n",
        "\timg = Image.open(image).convert(\"L\")\n",
        "\timg_name = random_name_generator(10) + '.jpg'\n",
        " \n",
        "\tif not os.path.exists(f\"./static/data/\"): \n",
        "\t\tos.mkdir(os.path.join('./static/', 'data'))\n",
        "\timg.save(Path(f\"./static/data/{img_name}\"))\n",
        " \n",
        "\timg = ImageOps.grayscale(img)\n",
        "\timg = ImageOps.invert(img)\n",
        "\timg = img.resize((28, 28))\n",
        "\timg2arr = np.array(img)\n",
        "\timg2arr = img2arr / 255.0\n",
        "\timg2arr = img2arr.reshape(1, 28, 28, 1)\n",
        " \n",
        "\tresults  = model.predict(img2arr)\n",
        "\tbest = np.argmax(results,axis = 1)[0]\n",
        " \n",
        "\tpred = list(map(lambda x: round(x*100, 2), results[0]))\n",
        " \n",
        "\tvalues = [0, 1, 2, 3, 4, 5, 6, 7, 8, 9]\n",
        "\tothers = list(zip(values, pred))\n",
        " \n",
        "\tbest = others.pop(best)\n",
        "\n",
        "\treturn best, others, img_name"
      ]
    }
  ]
}