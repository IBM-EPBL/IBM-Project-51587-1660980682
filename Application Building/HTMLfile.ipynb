{
  "nbformat": 4,
  "nbformat_minor": 0,
  "metadata": {
    "colab": {
      "provenance": []
    },
    "kernelspec": {
      "name": "python3",
      "display_name": "Python 3"
    },
    "language_info": {
      "name": "python"
    }
  },
  "cells": [
    {
      "cell_type": "code",
      "execution_count": 1,
      "metadata": {
        "colab": {
          "base_uri": "https://localhost:8080/",
          "height": 130
        },
        "id": "p737ixbmnPwG",
        "outputId": "38d69c45-9bf2-4185-8456-c7751c191fca"
      },
      "outputs": [
        {
          "output_type": "error",
          "ename": "SyntaxError",
          "evalue": "ignored",
          "traceback": [
            "\u001b[0;36m  File \u001b[0;32m\"<ipython-input-1-609e33b2260f>\"\u001b[0;36m, line \u001b[0;32m1\u001b[0m\n\u001b[0;31m    <!DOCTYPE html>\u001b[0m\n\u001b[0m    ^\u001b[0m\n\u001b[0;31mSyntaxError\u001b[0m\u001b[0;31m:\u001b[0m invalid syntax\n"
          ]
        }
      ],
      "source": [
        "<!DOCTYPE html>\n",
        "<html lang=\"en\">\n",
        "\n",
        "<head>\n",
        "    <meta charset=\"UTF-8\">\n",
        "    <meta http-equiv=\"X-UA-Compatible\" content=\"IE=edge\">\n",
        "    <meta name=\"viewport\" content=\"width=device-width, initial-scale=1.0\">\n",
        "    <title>Handwritten Recognition System</title>\n",
        "    <link rel=\"stylesheet\" href=\"style.css\">\n",
        "</head>\n",
        "\n",
        "<body>\n",
        "    <header class=\"header\">\n",
        "        <nav class=\"navbar\">\n",
        "            <ul>\n",
        "                <li>\n",
        "                    <a href=\"#\">Home</a>\n",
        "                </li>\n",
        "                <li>\n",
        "                    <a href=\"recognize.html\">Recognize</a>\n",
        "                </li>\n",
        "            </ul>\n",
        "        </nav>\n",
        "    </header>\n",
        "\n",
        "    <div class=\"bg-pic\"></div>\n",
        "\n",
        "    <main class=\"main\">\n",
        "        <h1 class=\"main-heading\">Handwritten Recognition System</h1>\n",
        "\n",
        "        <p class=\"content\">\n",
        "            <em>\n",
        "                Handwritten Text Recognition is a technology that is much needed in this world as of today. This digit\n",
        "                Recognition system is used to recognize the digits from different sources like emails, bank cheque,\n",
        "                papers, images, etc. Before proper implementation of this technology we have relied on writing texts\n",
        "                with our own hands which can result in errors. It's difficult to store and access physical data with\n",
        "                efficiency. The project presents recognizing the handwritten digits (0 to 9) from the famous MNIST\n",
        "                dataset. Here we will be using artificial neural networks convalution neural network.\n",
        "            </em>\n",
        "        </p>\n",
        "    </main>\n",
        "</body>\n",
        "\n",
        "</html>"
      ]
    }
  ]
}